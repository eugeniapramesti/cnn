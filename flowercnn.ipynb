{
  "nbformat": 4,
  "nbformat_minor": 0,
  "metadata": {
    "colab": {
      "provenance": [],
      "authorship_tag": "ABX9TyP4PMGkoM719Nn/o+bGfljs",
      "include_colab_link": true
    },
    "kernelspec": {
      "name": "python3",
      "display_name": "Python 3"
    },
    "language_info": {
      "name": "python"
    }
  },
  "cells": [
    {
      "cell_type": "markdown",
      "metadata": {
        "id": "view-in-github",
        "colab_type": "text"
      },
      "source": [
        "<a href=\"https://colab.research.google.com/github/eugeniapramesti/cnn/blob/main/flowercnn.ipynb\" target=\"_parent\"><img src=\"https://colab.research.google.com/assets/colab-badge.svg\" alt=\"Open In Colab\"/></a>"
      ]
    },
    {
      "cell_type": "code",
      "source": [
        "!wget https://storage.googleapis.com/download.tensorflow.org/example_images/flower_photos.tgz"
      ],
      "metadata": {
        "colab": {
          "base_uri": "https://localhost:8080/"
        },
        "id": "xB57MUbVWzen",
        "outputId": "7790a160-c01e-46ac-db3c-2ee6cb23b2bc"
      },
      "execution_count": null,
      "outputs": [
        {
          "output_type": "stream",
          "name": "stdout",
          "text": [
            "--2023-11-07 21:34:11--  https://storage.googleapis.com/download.tensorflow.org/example_images/flower_photos.tgz\n",
            "Resolving storage.googleapis.com (storage.googleapis.com)... 172.253.63.207, 142.250.31.207, 142.251.111.207, ...\n",
            "Connecting to storage.googleapis.com (storage.googleapis.com)|172.253.63.207|:443... connected.\n",
            "HTTP request sent, awaiting response... 200 OK\n",
            "Length: 228813984 (218M) [application/x-compressed-tar]\n",
            "Saving to: ‘flower_photos.tgz’\n",
            "\n",
            "flower_photos.tgz   100%[===================>] 218.21M   253MB/s    in 0.9s    \n",
            "\n",
            "2023-11-07 21:34:12 (253 MB/s) - ‘flower_photos.tgz’ saved [228813984/228813984]\n",
            "\n"
          ]
        }
      ]
    },
    {
      "cell_type": "code",
      "source": [
        "!tar -xzf flower_photos.tgz"
      ],
      "metadata": {
        "id": "GrzC7XxgW1Jj"
      },
      "execution_count": null,
      "outputs": []
    },
    {
      "cell_type": "code",
      "source": [
        "import os\n",
        "import numpy as np\n",
        "import pandas as pd\n",
        "import matplotlib.pyplot as plt\n",
        "from keras.utils import load_img"
      ],
      "metadata": {
        "id": "Pyk9mHp_tPZz"
      },
      "execution_count": null,
      "outputs": []
    },
    {
      "cell_type": "code",
      "source": [
        "path= 'flower_photos/'\n",
        "class_names=[]\n",
        "for i in os.listdir(path):\n",
        "  if i != 'LICENSE.txt':\n",
        "    class_names.append(i)\n",
        "\n",
        "class_names"
      ],
      "metadata": {
        "colab": {
          "base_uri": "https://localhost:8080/"
        },
        "id": "GaDol20Ttb-p",
        "outputId": "6261d747-07ca-4481-d8b0-8087b12b2e9e"
      },
      "execution_count": null,
      "outputs": [
        {
          "output_type": "execute_result",
          "data": {
            "text/plain": [
              "['tulips', 'roses', 'sunflowers', 'dandelion', 'daisy']"
            ]
          },
          "metadata": {},
          "execution_count": 5
        }
      ]
    },
    {
      "cell_type": "code",
      "source": [
        "dataset=[]\n",
        "labels=[]\n",
        "\n",
        "for i in class_names:\n",
        "  class_path= path+i+'/'\n",
        "  for j in os.listdir(class_path):\n",
        "    image_path= class_path+j\n",
        "    image_data= load_img(image_path, color_mode= 'grayscale')\n",
        "    image_data= image_data.resize((180, 180))\n",
        "    image_data= np.array(image_data)\n",
        "    dataset.append(image_data)\n",
        "    labels.append(class_names.index(i))"
      ],
      "metadata": {
        "id": "u9XVz45nt0Ug"
      },
      "execution_count": null,
      "outputs": []
    },
    {
      "cell_type": "code",
      "source": [
        "dataset= np.array(dataset)\n",
        "labels= np.array(labels)"
      ],
      "metadata": {
        "id": "D5gdqi4Yuoqf"
      },
      "execution_count": null,
      "outputs": []
    },
    {
      "cell_type": "code",
      "source": [
        "dataset.shape"
      ],
      "metadata": {
        "colab": {
          "base_uri": "https://localhost:8080/"
        },
        "id": "_1Y3oLX4vC_C",
        "outputId": "cf10afdc-164e-4e48-a2f1-0b93a08d04fd"
      },
      "execution_count": null,
      "outputs": [
        {
          "output_type": "execute_result",
          "data": {
            "text/plain": [
              "(3670, 180, 180)"
            ]
          },
          "metadata": {},
          "execution_count": 17
        }
      ]
    },
    {
      "cell_type": "code",
      "source": [
        "dataset= dataset.reshape(dataset.shape[0], dataset.shape[1], dataset.shape[2], 1).astype(\"float32\")\n",
        "dataset/=255"
      ],
      "metadata": {
        "id": "SXpcJzZHusmq"
      },
      "execution_count": null,
      "outputs": []
    },
    {
      "cell_type": "code",
      "source": [
        "from sklearn.model_selection import train_test_split\n"
      ],
      "metadata": {
        "id": "g2d0YxS2u0ny"
      },
      "execution_count": null,
      "outputs": []
    },
    {
      "cell_type": "code",
      "source": [
        "x_train ,x_test, y_train,y_test = train_test_split(dataset, labels, train_size = 0.7, random_state=123)\n",
        "x_test, x_val, y_test, y_val= train_test_split(x_test, y_test, train_size = 0.5, random_state=123)"
      ],
      "metadata": {
        "id": "XIJUKqnUvYnf"
      },
      "execution_count": null,
      "outputs": []
    },
    {
      "cell_type": "code",
      "source": [
        "from tensorflow.keras import layers\n",
        "import tensorflow as tf"
      ],
      "metadata": {
        "id": "QPmmAbpYvawO"
      },
      "execution_count": null,
      "outputs": []
    },
    {
      "cell_type": "code",
      "source": [
        "flip=tf.keras.layers.RandomFlip(mode=\"horizontal_and_vertical\")\n",
        "rotation= tf.keras.layers.RandomRotation(0.2)\n",
        "brightness= tf.keras.layers.RandomBrightness(0.3)"
      ],
      "metadata": {
        "id": "UpoRusL1vh0A"
      },
      "execution_count": null,
      "outputs": []
    },
    {
      "cell_type": "code",
      "source": [
        "x_train= flip(x_train)\n",
        "x_train= rotation(x_train)\n",
        "x_train= brightness(x_train)"
      ],
      "metadata": {
        "id": "U1HPLUsuvp_L"
      },
      "execution_count": null,
      "outputs": []
    },
    {
      "cell_type": "code",
      "source": [
        "from keras.callbacks import EarlyStopping"
      ],
      "metadata": {
        "id": "2lnDOAY4wTR-"
      },
      "execution_count": null,
      "outputs": []
    },
    {
      "cell_type": "code",
      "source": [
        "callback= EarlyStopping(monitor= \"val_loss\", patience=3, verbose= 1, mode= 'min')"
      ],
      "metadata": {
        "id": "_snHITbowXIM"
      },
      "execution_count": null,
      "outputs": []
    },
    {
      "cell_type": "code",
      "source": [
        "from tensorflow.keras.layers import Conv2D, MaxPooling2D, Dropout, Dense, Flatten, Input\n",
        "from tensorflow.keras.optimizers import Adam\n",
        "from tensorflow.keras import Sequential"
      ],
      "metadata": {
        "id": "5WeDSznovsvk"
      },
      "execution_count": null,
      "outputs": []
    },
    {
      "cell_type": "code",
      "source": [
        "model = Sequential([\n",
        "    Conv2D(32, kernel_size=(3, 3), activation=\"relu\", input_shape=(180,180, 1)),\n",
        "    MaxPooling2D(2, 2),\n",
        "    Conv2D(64, kernel_size=(3, 3), activation=\"relu\"),\n",
        "    MaxPooling2D(2, 2),\n",
        "    Conv2D(128, kernel_size=(3, 3), activation=\"relu\"),\n",
        "    MaxPooling2D(2, 2),\n",
        "    Flatten(),\n",
        "    Dense(128, activation=\"relu\"),\n",
        "    Dropout(rate=0.5),\n",
        "    Dense(64, activation=\"relu\"),\n",
        "    Dropout(rate=0.5),\n",
        "    Dense(5, activation=\"softmax\")\n",
        "])"
      ],
      "metadata": {
        "id": "ldTKfYuKvynG"
      },
      "execution_count": null,
      "outputs": []
    },
    {
      "cell_type": "code",
      "source": [
        "model.compile(optimizer= Adam(1e-3), loss= 'sparse_categorical_crossentropy', metrics= ['accuracy'])"
      ],
      "metadata": {
        "id": "lvbnj1_bwA7w"
      },
      "execution_count": null,
      "outputs": []
    },
    {
      "cell_type": "code",
      "source": [
        "model.fit(x_train, y_train, epochs=  5, batch_size=100, validation_data= (x_val, y_val), callbacks= callback)"
      ],
      "metadata": {
        "colab": {
          "base_uri": "https://localhost:8080/"
        },
        "id": "fghXbLD3wOTO",
        "outputId": "a15b50df-86d1-4ab4-bf1b-fbc8ddc6eeb1"
      },
      "execution_count": null,
      "outputs": [
        {
          "output_type": "stream",
          "name": "stdout",
          "text": [
            "Epoch 1/5\n",
            "26/26 [==============================] - 162s 6s/step - loss: 2.5176 - accuracy: 0.2304 - val_loss: 1.6073 - val_accuracy: 0.2523\n",
            "Epoch 2/5\n",
            "26/26 [==============================] - 144s 6s/step - loss: 1.6119 - accuracy: 0.2367 - val_loss: 1.6063 - val_accuracy: 0.2523\n",
            "Epoch 3/5\n",
            "26/26 [==============================] - 151s 6s/step - loss: 1.6041 - accuracy: 0.2472 - val_loss: 1.6019 - val_accuracy: 0.2523\n",
            "Epoch 4/5\n",
            "26/26 [==============================] - 142s 5s/step - loss: 1.6342 - accuracy: 0.2301 - val_loss: 1.6024 - val_accuracy: 0.2523\n",
            "Epoch 5/5\n",
            "26/26 [==============================] - 143s 6s/step - loss: 1.6016 - accuracy: 0.2456 - val_loss: 1.6011 - val_accuracy: 0.2523\n"
          ]
        },
        {
          "output_type": "execute_result",
          "data": {
            "text/plain": [
              "<keras.src.callbacks.History at 0x7973cacad690>"
            ]
          },
          "metadata": {},
          "execution_count": 32
        }
      ]
    },
    {
      "cell_type": "code",
      "source": [
        "eval= model.evaluate(x_val, y_val, batch_size= 100)"
      ],
      "metadata": {
        "id": "PWZscz_qwsYM"
      },
      "execution_count": null,
      "outputs": []
    },
    {
      "cell_type": "code",
      "source": [
        "predict= model.predict(x_test)\n",
        "y_pred= np.argmax(predict, axis=1)"
      ],
      "metadata": {
        "id": "aFzub7yVw1Fg"
      },
      "execution_count": null,
      "outputs": []
    }
  ]
}